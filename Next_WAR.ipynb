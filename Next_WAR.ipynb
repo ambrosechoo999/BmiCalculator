{
  "nbformat": 4,
  "nbformat_minor": 0,
  "metadata": {
    "colab": {
      "provenance": [],
      "authorship_tag": "ABX9TyMjVj3NVh6LA2inpHLPs2P+",
      "include_colab_link": true
    },
    "kernelspec": {
      "name": "python3",
      "display_name": "Python 3"
    },
    "language_info": {
      "name": "python"
    }
  },
  "cells": [
    {
      "cell_type": "markdown",
      "metadata": {
        "id": "view-in-github",
        "colab_type": "text"
      },
      "source": [
        "<a href=\"https://colab.research.google.com/github/ambrosechoo999/BmiCalculator/blob/master/Next_WAR.ipynb\" target=\"_parent\"><img src=\"https://colab.research.google.com/assets/colab-badge.svg\" alt=\"Open In Colab\"/></a>"
      ]
    },
    {
      "cell_type": "code",
      "execution_count": null,
      "metadata": {
        "colab": {
          "base_uri": "https://localhost:8080/"
        },
        "id": "qE5E7Zc83Tqm",
        "outputId": "0962ad14-4dd3-4096-da9e-29efe82e1ded"
      },
      "outputs": [
        {
          "output_type": "stream",
          "name": "stdout",
          "text": [
            "Requirement already satisfied: pybaseball in /usr/local/lib/python3.10/dist-packages (2.2.7)\n",
            "Requirement already satisfied: numpy>=1.13.0 in /usr/local/lib/python3.10/dist-packages (from pybaseball) (1.25.2)\n",
            "Requirement already satisfied: pandas>=1.0.3 in /usr/local/lib/python3.10/dist-packages (from pybaseball) (1.5.3)\n",
            "Requirement already satisfied: beautifulsoup4>=4.4.0 in /usr/local/lib/python3.10/dist-packages (from pybaseball) (4.12.3)\n",
            "Requirement already satisfied: requests>=2.18.1 in /usr/local/lib/python3.10/dist-packages (from pybaseball) (2.31.0)\n",
            "Requirement already satisfied: lxml>=4.2.1 in /usr/local/lib/python3.10/dist-packages (from pybaseball) (4.9.4)\n",
            "Requirement already satisfied: pyarrow>=1.0.1 in /usr/local/lib/python3.10/dist-packages (from pybaseball) (14.0.2)\n",
            "Requirement already satisfied: pygithub>=1.51 in /usr/local/lib/python3.10/dist-packages (from pybaseball) (2.2.0)\n",
            "Requirement already satisfied: scipy>=1.4.0 in /usr/local/lib/python3.10/dist-packages (from pybaseball) (1.11.4)\n",
            "Requirement already satisfied: matplotlib>=2.0.0 in /usr/local/lib/python3.10/dist-packages (from pybaseball) (3.7.1)\n",
            "Requirement already satisfied: tqdm>=4.50.0 in /usr/local/lib/python3.10/dist-packages (from pybaseball) (4.66.2)\n",
            "Requirement already satisfied: attrs>=20.3.0 in /usr/local/lib/python3.10/dist-packages (from pybaseball) (23.2.0)\n",
            "Requirement already satisfied: soupsieve>1.2 in /usr/local/lib/python3.10/dist-packages (from beautifulsoup4>=4.4.0->pybaseball) (2.5)\n",
            "Requirement already satisfied: contourpy>=1.0.1 in /usr/local/lib/python3.10/dist-packages (from matplotlib>=2.0.0->pybaseball) (1.2.0)\n",
            "Requirement already satisfied: cycler>=0.10 in /usr/local/lib/python3.10/dist-packages (from matplotlib>=2.0.0->pybaseball) (0.12.1)\n",
            "Requirement already satisfied: fonttools>=4.22.0 in /usr/local/lib/python3.10/dist-packages (from matplotlib>=2.0.0->pybaseball) (4.49.0)\n",
            "Requirement already satisfied: kiwisolver>=1.0.1 in /usr/local/lib/python3.10/dist-packages (from matplotlib>=2.0.0->pybaseball) (1.4.5)\n",
            "Requirement already satisfied: packaging>=20.0 in /usr/local/lib/python3.10/dist-packages (from matplotlib>=2.0.0->pybaseball) (23.2)\n",
            "Requirement already satisfied: pillow>=6.2.0 in /usr/local/lib/python3.10/dist-packages (from matplotlib>=2.0.0->pybaseball) (9.4.0)\n",
            "Requirement already satisfied: pyparsing>=2.3.1 in /usr/local/lib/python3.10/dist-packages (from matplotlib>=2.0.0->pybaseball) (3.1.1)\n",
            "Requirement already satisfied: python-dateutil>=2.7 in /usr/local/lib/python3.10/dist-packages (from matplotlib>=2.0.0->pybaseball) (2.8.2)\n",
            "Requirement already satisfied: pytz>=2020.1 in /usr/local/lib/python3.10/dist-packages (from pandas>=1.0.3->pybaseball) (2023.4)\n",
            "Requirement already satisfied: pynacl>=1.4.0 in /usr/local/lib/python3.10/dist-packages (from pygithub>=1.51->pybaseball) (1.5.0)\n",
            "Requirement already satisfied: pyjwt[crypto]>=2.4.0 in /usr/local/lib/python3.10/dist-packages (from pygithub>=1.51->pybaseball) (2.8.0)\n",
            "Requirement already satisfied: typing-extensions>=4.0.0 in /usr/local/lib/python3.10/dist-packages (from pygithub>=1.51->pybaseball) (4.10.0)\n",
            "Requirement already satisfied: urllib3>=1.26.0 in /usr/local/lib/python3.10/dist-packages (from pygithub>=1.51->pybaseball) (2.0.7)\n",
            "Requirement already satisfied: Deprecated in /usr/local/lib/python3.10/dist-packages (from pygithub>=1.51->pybaseball) (1.2.14)\n",
            "Requirement already satisfied: charset-normalizer<4,>=2 in /usr/local/lib/python3.10/dist-packages (from requests>=2.18.1->pybaseball) (3.3.2)\n",
            "Requirement already satisfied: idna<4,>=2.5 in /usr/local/lib/python3.10/dist-packages (from requests>=2.18.1->pybaseball) (3.6)\n",
            "Requirement already satisfied: certifi>=2017.4.17 in /usr/local/lib/python3.10/dist-packages (from requests>=2.18.1->pybaseball) (2024.2.2)\n",
            "Requirement already satisfied: cryptography>=3.4.0 in /usr/local/lib/python3.10/dist-packages (from pyjwt[crypto]>=2.4.0->pygithub>=1.51->pybaseball) (42.0.5)\n",
            "Requirement already satisfied: cffi>=1.4.1 in /usr/local/lib/python3.10/dist-packages (from pynacl>=1.4.0->pygithub>=1.51->pybaseball) (1.16.0)\n",
            "Requirement already satisfied: six>=1.5 in /usr/local/lib/python3.10/dist-packages (from python-dateutil>=2.7->matplotlib>=2.0.0->pybaseball) (1.16.0)\n",
            "Requirement already satisfied: wrapt<2,>=1.10 in /usr/local/lib/python3.10/dist-packages (from Deprecated->pygithub>=1.51->pybaseball) (1.14.1)\n",
            "Requirement already satisfied: pycparser in /usr/local/lib/python3.10/dist-packages (from cffi>=1.4.1->pynacl>=1.4.0->pygithub>=1.51->pybaseball) (2.21)\n"
          ]
        }
      ],
      "source": [
        "import os\n",
        "import pandas as pd\n",
        "import numpy as np\n",
        "!pip install pybaseball\n",
        "from pybaseball import batting_stats"
      ]
    },
    {
      "cell_type": "markdown",
      "source": [
        "# **Downloading the data**"
      ],
      "metadata": {
        "id": "nAdGevxm8yBw"
      }
    },
    {
      "cell_type": "code",
      "source": [
        "START= 2002\n",
        "END = 2023"
      ],
      "metadata": {
        "id": "GNEeAP593v9B"
      },
      "execution_count": null,
      "outputs": []
    },
    {
      "cell_type": "code",
      "source": [
        "batting = batting_stats(START,END,qual =200) #qual is the number of plate appearances before they are included in dataset"
      ],
      "metadata": {
        "id": "Caec-mtS5WfC"
      },
      "execution_count": null,
      "outputs": []
    },
    {
      "cell_type": "code",
      "source": [
        "batting.to_csv(\"batting.csv\") #Keep the stats into csv so no need repeated redownload the dataset"
      ],
      "metadata": {
        "id": "6a_W29hJ54YS"
      },
      "execution_count": null,
      "outputs": []
    },
    {
      "cell_type": "code",
      "source": [
        "batting = batting.groupby(\"IDfg\",group_keys = False).filter(lambda x: x.shape[0]> 1)\n",
        "#Filter out players with 1 season or less as the shape is 1\n",
        "#group_ key = False so the index and id do not interefere each other and mixed"
      ],
      "metadata": {
        "id": "JSugjRQk6JpS"
      },
      "execution_count": null,
      "outputs": []
    },
    {
      "cell_type": "code",
      "source": [
        "batting"
      ],
      "metadata": {
        "id": "-1GqlDqx8Rox"
      },
      "execution_count": null,
      "outputs": []
    },
    {
      "cell_type": "markdown",
      "source": [
        "# **Creating a ML Target**"
      ],
      "metadata": {
        "id": "01BmAj3N8sfg"
      }
    },
    {
      "cell_type": "code",
      "source": [
        "def next_season(player):\n",
        "  player = player.sort_values(\"Season\")\n",
        "  player[\"Next_WAR\"] = player[\"WAR\"].shift(-1) # shift moves the following year's WAR as the Next_WAR\n",
        "  return player\n",
        "\n",
        "batting = batting.groupby(\"IDfg\",group_keys = False).apply(next_season)"
      ],
      "metadata": {
        "id": "Aeu0Kbmv83u5"
      },
      "execution_count": null,
      "outputs": []
    },
    {
      "cell_type": "code",
      "source": [
        "batting[[\"Name\",\"Season\",\"WAR\",\"Next_WAR\"]] # Notice there are NaN as there was not a following WAR to be used for Next_WAR"
      ],
      "metadata": {
        "id": "Ui3aKd-J9zUh"
      },
      "execution_count": null,
      "outputs": []
    },
    {
      "cell_type": "markdown",
      "source": [
        "# **Cleaning** **Data**"
      ],
      "metadata": {
        "id": "E_kVHwFuAuIg"
      }
    },
    {
      "cell_type": "code",
      "source": [
        "null_count = batting.isnull().sum() #see which column has alot of those NaN"
      ],
      "metadata": {
        "id": "7fH7Td9wA8bw"
      },
      "execution_count": null,
      "outputs": []
    },
    {
      "cell_type": "code",
      "source": [
        "null_count"
      ],
      "metadata": {
        "id": "B9n6PJYwBQX_"
      },
      "execution_count": null,
      "outputs": []
    },
    {
      "cell_type": "code",
      "source": [
        "complete_cols =list(batting.columns[null_count ==0]) # create a list of columns that do not have NaN or null values and are complete"
      ],
      "metadata": {
        "id": "1Izn7qnWBR93"
      },
      "execution_count": null,
      "outputs": []
    },
    {
      "cell_type": "code",
      "source": [
        "complete_cols"
      ],
      "metadata": {
        "id": "Pe2bBg7cBvcw"
      },
      "execution_count": null,
      "outputs": []
    },
    {
      "cell_type": "code",
      "source": [
        "batting = batting[complete_cols + [\"Next_WAR\"]].copy()"
      ],
      "metadata": {
        "id": "WrJku8iVBzkn"
      },
      "execution_count": null,
      "outputs": []
    },
    {
      "cell_type": "code",
      "source": [
        "batting # All NaN or null values are gone except for Next_WAR"
      ],
      "metadata": {
        "colab": {
          "base_uri": "https://localhost:8080/",
          "height": 424
        },
        "id": "3ZDN9zXVCRpw",
        "outputId": "094f2edf-40e7-40d1-c78a-af66848b29c8"
      },
      "execution_count": null,
      "outputs": [
        {
          "output_type": "execute_result",
          "data": {
            "text/plain": [
              "       IDfg  Season                Name Team  Age    G   AB   PA    H   1B  \\\n",
              "5828      1    2006     Alfredo Amezaga  FLA   28  132  334  378   87   72   \n",
              "5239      1    2007     Alfredo Amezaga  FLA   29  133  400  448  105   80   \n",
              "5497      1    2008     Alfredo Amezaga  FLA   30  125  311  337   82   61   \n",
              "1200      2    2002     Garret Anderson  ANA   30  158  638  678  195  107   \n",
              "882       2    2003     Garret Anderson  ANA   31  159  638  673  201  119   \n",
              "...     ...     ...                 ...  ...  ...  ...  ...  ...  ...  ...   \n",
              "3254  27506    2023        Ha-seong Kim  SDP   27  152  538  626  140  100   \n",
              "1139  27676    2022  Vinnie Pasquantino  KCR   24   72  258  298   76   56   \n",
              "3504  27676    2023  Vinnie Pasquantino  KCR   25   61  231  260   57   31   \n",
              "2946  30116    2022        Seiya Suzuki  CHC   27  111  397  446  104   66   \n",
              "1435  30116    2023        Seiya Suzuki  CHC   28  138  515  583  147   90   \n",
              "\n",
              "      ...  Cent%+  Oppo%+  Soft%+  Med%+  Hard%+  Events  CStr%   CSW%  L-WAR  \\\n",
              "5828  ...     107     113     143    109      63       0  0.188  0.256    1.1   \n",
              "5239  ...     101     112     109    113      75       0  0.175  0.227    2.0   \n",
              "5497  ...     101     101     123    111      64       0  0.178  0.244    1.2   \n",
              "1200  ...      91      80      65     97     129       0  0.137  0.232    3.7   \n",
              "882   ...     101      80      90     99     109       0  0.164  0.252    5.1   \n",
              "...   ...     ...     ...     ...    ...     ...     ...    ...    ...    ...   \n",
              "3254  ...      99      85     117    106      82     424  0.233  0.293    4.1   \n",
              "1139  ...     104      87      79     93     123     226  0.162  0.228    1.5   \n",
              "3504  ...     102      88      87     91     121     202  0.179  0.253    0.2   \n",
              "2946  ...     105     130     106     95     106     290  0.232  0.312    2.0   \n",
              "1435  ...     109      92      90     93     115     392  0.204  0.283    2.9   \n",
              "\n",
              "      Next_WAR  \n",
              "5828       2.0  \n",
              "5239       1.2  \n",
              "5497       NaN  \n",
              "1200       5.1  \n",
              "882        0.8  \n",
              "...        ...  \n",
              "3254       NaN  \n",
              "1139       0.0  \n",
              "3504       NaN  \n",
              "2946       3.2  \n",
              "1435       NaN  \n",
              "\n",
              "[7092 rows x 133 columns]"
            ],
            "text/html": [
              "\n",
              "  <div id=\"df-7cb0355a-563c-4226-afd1-2c9acbc4c873\" class=\"colab-df-container\">\n",
              "    <div>\n",
              "<style scoped>\n",
              "    .dataframe tbody tr th:only-of-type {\n",
              "        vertical-align: middle;\n",
              "    }\n",
              "\n",
              "    .dataframe tbody tr th {\n",
              "        vertical-align: top;\n",
              "    }\n",
              "\n",
              "    .dataframe thead th {\n",
              "        text-align: right;\n",
              "    }\n",
              "</style>\n",
              "<table border=\"1\" class=\"dataframe\">\n",
              "  <thead>\n",
              "    <tr style=\"text-align: right;\">\n",
              "      <th></th>\n",
              "      <th>IDfg</th>\n",
              "      <th>Season</th>\n",
              "      <th>Name</th>\n",
              "      <th>Team</th>\n",
              "      <th>Age</th>\n",
              "      <th>G</th>\n",
              "      <th>AB</th>\n",
              "      <th>PA</th>\n",
              "      <th>H</th>\n",
              "      <th>1B</th>\n",
              "      <th>...</th>\n",
              "      <th>Cent%+</th>\n",
              "      <th>Oppo%+</th>\n",
              "      <th>Soft%+</th>\n",
              "      <th>Med%+</th>\n",
              "      <th>Hard%+</th>\n",
              "      <th>Events</th>\n",
              "      <th>CStr%</th>\n",
              "      <th>CSW%</th>\n",
              "      <th>L-WAR</th>\n",
              "      <th>Next_WAR</th>\n",
              "    </tr>\n",
              "  </thead>\n",
              "  <tbody>\n",
              "    <tr>\n",
              "      <th>5828</th>\n",
              "      <td>1</td>\n",
              "      <td>2006</td>\n",
              "      <td>Alfredo Amezaga</td>\n",
              "      <td>FLA</td>\n",
              "      <td>28</td>\n",
              "      <td>132</td>\n",
              "      <td>334</td>\n",
              "      <td>378</td>\n",
              "      <td>87</td>\n",
              "      <td>72</td>\n",
              "      <td>...</td>\n",
              "      <td>107</td>\n",
              "      <td>113</td>\n",
              "      <td>143</td>\n",
              "      <td>109</td>\n",
              "      <td>63</td>\n",
              "      <td>0</td>\n",
              "      <td>0.188</td>\n",
              "      <td>0.256</td>\n",
              "      <td>1.1</td>\n",
              "      <td>2.0</td>\n",
              "    </tr>\n",
              "    <tr>\n",
              "      <th>5239</th>\n",
              "      <td>1</td>\n",
              "      <td>2007</td>\n",
              "      <td>Alfredo Amezaga</td>\n",
              "      <td>FLA</td>\n",
              "      <td>29</td>\n",
              "      <td>133</td>\n",
              "      <td>400</td>\n",
              "      <td>448</td>\n",
              "      <td>105</td>\n",
              "      <td>80</td>\n",
              "      <td>...</td>\n",
              "      <td>101</td>\n",
              "      <td>112</td>\n",
              "      <td>109</td>\n",
              "      <td>113</td>\n",
              "      <td>75</td>\n",
              "      <td>0</td>\n",
              "      <td>0.175</td>\n",
              "      <td>0.227</td>\n",
              "      <td>2.0</td>\n",
              "      <td>1.2</td>\n",
              "    </tr>\n",
              "    <tr>\n",
              "      <th>5497</th>\n",
              "      <td>1</td>\n",
              "      <td>2008</td>\n",
              "      <td>Alfredo Amezaga</td>\n",
              "      <td>FLA</td>\n",
              "      <td>30</td>\n",
              "      <td>125</td>\n",
              "      <td>311</td>\n",
              "      <td>337</td>\n",
              "      <td>82</td>\n",
              "      <td>61</td>\n",
              "      <td>...</td>\n",
              "      <td>101</td>\n",
              "      <td>101</td>\n",
              "      <td>123</td>\n",
              "      <td>111</td>\n",
              "      <td>64</td>\n",
              "      <td>0</td>\n",
              "      <td>0.178</td>\n",
              "      <td>0.244</td>\n",
              "      <td>1.2</td>\n",
              "      <td>NaN</td>\n",
              "    </tr>\n",
              "    <tr>\n",
              "      <th>1200</th>\n",
              "      <td>2</td>\n",
              "      <td>2002</td>\n",
              "      <td>Garret Anderson</td>\n",
              "      <td>ANA</td>\n",
              "      <td>30</td>\n",
              "      <td>158</td>\n",
              "      <td>638</td>\n",
              "      <td>678</td>\n",
              "      <td>195</td>\n",
              "      <td>107</td>\n",
              "      <td>...</td>\n",
              "      <td>91</td>\n",
              "      <td>80</td>\n",
              "      <td>65</td>\n",
              "      <td>97</td>\n",
              "      <td>129</td>\n",
              "      <td>0</td>\n",
              "      <td>0.137</td>\n",
              "      <td>0.232</td>\n",
              "      <td>3.7</td>\n",
              "      <td>5.1</td>\n",
              "    </tr>\n",
              "    <tr>\n",
              "      <th>882</th>\n",
              "      <td>2</td>\n",
              "      <td>2003</td>\n",
              "      <td>Garret Anderson</td>\n",
              "      <td>ANA</td>\n",
              "      <td>31</td>\n",
              "      <td>159</td>\n",
              "      <td>638</td>\n",
              "      <td>673</td>\n",
              "      <td>201</td>\n",
              "      <td>119</td>\n",
              "      <td>...</td>\n",
              "      <td>101</td>\n",
              "      <td>80</td>\n",
              "      <td>90</td>\n",
              "      <td>99</td>\n",
              "      <td>109</td>\n",
              "      <td>0</td>\n",
              "      <td>0.164</td>\n",
              "      <td>0.252</td>\n",
              "      <td>5.1</td>\n",
              "      <td>0.8</td>\n",
              "    </tr>\n",
              "    <tr>\n",
              "      <th>...</th>\n",
              "      <td>...</td>\n",
              "      <td>...</td>\n",
              "      <td>...</td>\n",
              "      <td>...</td>\n",
              "      <td>...</td>\n",
              "      <td>...</td>\n",
              "      <td>...</td>\n",
              "      <td>...</td>\n",
              "      <td>...</td>\n",
              "      <td>...</td>\n",
              "      <td>...</td>\n",
              "      <td>...</td>\n",
              "      <td>...</td>\n",
              "      <td>...</td>\n",
              "      <td>...</td>\n",
              "      <td>...</td>\n",
              "      <td>...</td>\n",
              "      <td>...</td>\n",
              "      <td>...</td>\n",
              "      <td>...</td>\n",
              "      <td>...</td>\n",
              "    </tr>\n",
              "    <tr>\n",
              "      <th>3254</th>\n",
              "      <td>27506</td>\n",
              "      <td>2023</td>\n",
              "      <td>Ha-seong Kim</td>\n",
              "      <td>SDP</td>\n",
              "      <td>27</td>\n",
              "      <td>152</td>\n",
              "      <td>538</td>\n",
              "      <td>626</td>\n",
              "      <td>140</td>\n",
              "      <td>100</td>\n",
              "      <td>...</td>\n",
              "      <td>99</td>\n",
              "      <td>85</td>\n",
              "      <td>117</td>\n",
              "      <td>106</td>\n",
              "      <td>82</td>\n",
              "      <td>424</td>\n",
              "      <td>0.233</td>\n",
              "      <td>0.293</td>\n",
              "      <td>4.1</td>\n",
              "      <td>NaN</td>\n",
              "    </tr>\n",
              "    <tr>\n",
              "      <th>1139</th>\n",
              "      <td>27676</td>\n",
              "      <td>2022</td>\n",
              "      <td>Vinnie Pasquantino</td>\n",
              "      <td>KCR</td>\n",
              "      <td>24</td>\n",
              "      <td>72</td>\n",
              "      <td>258</td>\n",
              "      <td>298</td>\n",
              "      <td>76</td>\n",
              "      <td>56</td>\n",
              "      <td>...</td>\n",
              "      <td>104</td>\n",
              "      <td>87</td>\n",
              "      <td>79</td>\n",
              "      <td>93</td>\n",
              "      <td>123</td>\n",
              "      <td>226</td>\n",
              "      <td>0.162</td>\n",
              "      <td>0.228</td>\n",
              "      <td>1.5</td>\n",
              "      <td>0.0</td>\n",
              "    </tr>\n",
              "    <tr>\n",
              "      <th>3504</th>\n",
              "      <td>27676</td>\n",
              "      <td>2023</td>\n",
              "      <td>Vinnie Pasquantino</td>\n",
              "      <td>KCR</td>\n",
              "      <td>25</td>\n",
              "      <td>61</td>\n",
              "      <td>231</td>\n",
              "      <td>260</td>\n",
              "      <td>57</td>\n",
              "      <td>31</td>\n",
              "      <td>...</td>\n",
              "      <td>102</td>\n",
              "      <td>88</td>\n",
              "      <td>87</td>\n",
              "      <td>91</td>\n",
              "      <td>121</td>\n",
              "      <td>202</td>\n",
              "      <td>0.179</td>\n",
              "      <td>0.253</td>\n",
              "      <td>0.2</td>\n",
              "      <td>NaN</td>\n",
              "    </tr>\n",
              "    <tr>\n",
              "      <th>2946</th>\n",
              "      <td>30116</td>\n",
              "      <td>2022</td>\n",
              "      <td>Seiya Suzuki</td>\n",
              "      <td>CHC</td>\n",
              "      <td>27</td>\n",
              "      <td>111</td>\n",
              "      <td>397</td>\n",
              "      <td>446</td>\n",
              "      <td>104</td>\n",
              "      <td>66</td>\n",
              "      <td>...</td>\n",
              "      <td>105</td>\n",
              "      <td>130</td>\n",
              "      <td>106</td>\n",
              "      <td>95</td>\n",
              "      <td>106</td>\n",
              "      <td>290</td>\n",
              "      <td>0.232</td>\n",
              "      <td>0.312</td>\n",
              "      <td>2.0</td>\n",
              "      <td>3.2</td>\n",
              "    </tr>\n",
              "    <tr>\n",
              "      <th>1435</th>\n",
              "      <td>30116</td>\n",
              "      <td>2023</td>\n",
              "      <td>Seiya Suzuki</td>\n",
              "      <td>CHC</td>\n",
              "      <td>28</td>\n",
              "      <td>138</td>\n",
              "      <td>515</td>\n",
              "      <td>583</td>\n",
              "      <td>147</td>\n",
              "      <td>90</td>\n",
              "      <td>...</td>\n",
              "      <td>109</td>\n",
              "      <td>92</td>\n",
              "      <td>90</td>\n",
              "      <td>93</td>\n",
              "      <td>115</td>\n",
              "      <td>392</td>\n",
              "      <td>0.204</td>\n",
              "      <td>0.283</td>\n",
              "      <td>2.9</td>\n",
              "      <td>NaN</td>\n",
              "    </tr>\n",
              "  </tbody>\n",
              "</table>\n",
              "<p>7092 rows × 133 columns</p>\n",
              "</div>\n",
              "    <div class=\"colab-df-buttons\">\n",
              "\n",
              "  <div class=\"colab-df-container\">\n",
              "    <button class=\"colab-df-convert\" onclick=\"convertToInteractive('df-7cb0355a-563c-4226-afd1-2c9acbc4c873')\"\n",
              "            title=\"Convert this dataframe to an interactive table.\"\n",
              "            style=\"display:none;\">\n",
              "\n",
              "  <svg xmlns=\"http://www.w3.org/2000/svg\" height=\"24px\" viewBox=\"0 -960 960 960\">\n",
              "    <path d=\"M120-120v-720h720v720H120Zm60-500h600v-160H180v160Zm220 220h160v-160H400v160Zm0 220h160v-160H400v160ZM180-400h160v-160H180v160Zm440 0h160v-160H620v160ZM180-180h160v-160H180v160Zm440 0h160v-160H620v160Z\"/>\n",
              "  </svg>\n",
              "    </button>\n",
              "\n",
              "  <style>\n",
              "    .colab-df-container {\n",
              "      display:flex;\n",
              "      gap: 12px;\n",
              "    }\n",
              "\n",
              "    .colab-df-convert {\n",
              "      background-color: #E8F0FE;\n",
              "      border: none;\n",
              "      border-radius: 50%;\n",
              "      cursor: pointer;\n",
              "      display: none;\n",
              "      fill: #1967D2;\n",
              "      height: 32px;\n",
              "      padding: 0 0 0 0;\n",
              "      width: 32px;\n",
              "    }\n",
              "\n",
              "    .colab-df-convert:hover {\n",
              "      background-color: #E2EBFA;\n",
              "      box-shadow: 0px 1px 2px rgba(60, 64, 67, 0.3), 0px 1px 3px 1px rgba(60, 64, 67, 0.15);\n",
              "      fill: #174EA6;\n",
              "    }\n",
              "\n",
              "    .colab-df-buttons div {\n",
              "      margin-bottom: 4px;\n",
              "    }\n",
              "\n",
              "    [theme=dark] .colab-df-convert {\n",
              "      background-color: #3B4455;\n",
              "      fill: #D2E3FC;\n",
              "    }\n",
              "\n",
              "    [theme=dark] .colab-df-convert:hover {\n",
              "      background-color: #434B5C;\n",
              "      box-shadow: 0px 1px 3px 1px rgba(0, 0, 0, 0.15);\n",
              "      filter: drop-shadow(0px 1px 2px rgba(0, 0, 0, 0.3));\n",
              "      fill: #FFFFFF;\n",
              "    }\n",
              "  </style>\n",
              "\n",
              "    <script>\n",
              "      const buttonEl =\n",
              "        document.querySelector('#df-7cb0355a-563c-4226-afd1-2c9acbc4c873 button.colab-df-convert');\n",
              "      buttonEl.style.display =\n",
              "        google.colab.kernel.accessAllowed ? 'block' : 'none';\n",
              "\n",
              "      async function convertToInteractive(key) {\n",
              "        const element = document.querySelector('#df-7cb0355a-563c-4226-afd1-2c9acbc4c873');\n",
              "        const dataTable =\n",
              "          await google.colab.kernel.invokeFunction('convertToInteractive',\n",
              "                                                    [key], {});\n",
              "        if (!dataTable) return;\n",
              "\n",
              "        const docLinkHtml = 'Like what you see? Visit the ' +\n",
              "          '<a target=\"_blank\" href=https://colab.research.google.com/notebooks/data_table.ipynb>data table notebook</a>'\n",
              "          + ' to learn more about interactive tables.';\n",
              "        element.innerHTML = '';\n",
              "        dataTable['output_type'] = 'display_data';\n",
              "        await google.colab.output.renderOutput(dataTable, element);\n",
              "        const docLink = document.createElement('div');\n",
              "        docLink.innerHTML = docLinkHtml;\n",
              "        element.appendChild(docLink);\n",
              "      }\n",
              "    </script>\n",
              "  </div>\n",
              "\n",
              "\n",
              "<div id=\"df-df0ef0ee-0cb6-4875-845a-bd8cb2a19306\">\n",
              "  <button class=\"colab-df-quickchart\" onclick=\"quickchart('df-df0ef0ee-0cb6-4875-845a-bd8cb2a19306')\"\n",
              "            title=\"Suggest charts\"\n",
              "            style=\"display:none;\">\n",
              "\n",
              "<svg xmlns=\"http://www.w3.org/2000/svg\" height=\"24px\"viewBox=\"0 0 24 24\"\n",
              "     width=\"24px\">\n",
              "    <g>\n",
              "        <path d=\"M19 3H5c-1.1 0-2 .9-2 2v14c0 1.1.9 2 2 2h14c1.1 0 2-.9 2-2V5c0-1.1-.9-2-2-2zM9 17H7v-7h2v7zm4 0h-2V7h2v10zm4 0h-2v-4h2v4z\"/>\n",
              "    </g>\n",
              "</svg>\n",
              "  </button>\n",
              "\n",
              "<style>\n",
              "  .colab-df-quickchart {\n",
              "      --bg-color: #E8F0FE;\n",
              "      --fill-color: #1967D2;\n",
              "      --hover-bg-color: #E2EBFA;\n",
              "      --hover-fill-color: #174EA6;\n",
              "      --disabled-fill-color: #AAA;\n",
              "      --disabled-bg-color: #DDD;\n",
              "  }\n",
              "\n",
              "  [theme=dark] .colab-df-quickchart {\n",
              "      --bg-color: #3B4455;\n",
              "      --fill-color: #D2E3FC;\n",
              "      --hover-bg-color: #434B5C;\n",
              "      --hover-fill-color: #FFFFFF;\n",
              "      --disabled-bg-color: #3B4455;\n",
              "      --disabled-fill-color: #666;\n",
              "  }\n",
              "\n",
              "  .colab-df-quickchart {\n",
              "    background-color: var(--bg-color);\n",
              "    border: none;\n",
              "    border-radius: 50%;\n",
              "    cursor: pointer;\n",
              "    display: none;\n",
              "    fill: var(--fill-color);\n",
              "    height: 32px;\n",
              "    padding: 0;\n",
              "    width: 32px;\n",
              "  }\n",
              "\n",
              "  .colab-df-quickchart:hover {\n",
              "    background-color: var(--hover-bg-color);\n",
              "    box-shadow: 0 1px 2px rgba(60, 64, 67, 0.3), 0 1px 3px 1px rgba(60, 64, 67, 0.15);\n",
              "    fill: var(--button-hover-fill-color);\n",
              "  }\n",
              "\n",
              "  .colab-df-quickchart-complete:disabled,\n",
              "  .colab-df-quickchart-complete:disabled:hover {\n",
              "    background-color: var(--disabled-bg-color);\n",
              "    fill: var(--disabled-fill-color);\n",
              "    box-shadow: none;\n",
              "  }\n",
              "\n",
              "  .colab-df-spinner {\n",
              "    border: 2px solid var(--fill-color);\n",
              "    border-color: transparent;\n",
              "    border-bottom-color: var(--fill-color);\n",
              "    animation:\n",
              "      spin 1s steps(1) infinite;\n",
              "  }\n",
              "\n",
              "  @keyframes spin {\n",
              "    0% {\n",
              "      border-color: transparent;\n",
              "      border-bottom-color: var(--fill-color);\n",
              "      border-left-color: var(--fill-color);\n",
              "    }\n",
              "    20% {\n",
              "      border-color: transparent;\n",
              "      border-left-color: var(--fill-color);\n",
              "      border-top-color: var(--fill-color);\n",
              "    }\n",
              "    30% {\n",
              "      border-color: transparent;\n",
              "      border-left-color: var(--fill-color);\n",
              "      border-top-color: var(--fill-color);\n",
              "      border-right-color: var(--fill-color);\n",
              "    }\n",
              "    40% {\n",
              "      border-color: transparent;\n",
              "      border-right-color: var(--fill-color);\n",
              "      border-top-color: var(--fill-color);\n",
              "    }\n",
              "    60% {\n",
              "      border-color: transparent;\n",
              "      border-right-color: var(--fill-color);\n",
              "    }\n",
              "    80% {\n",
              "      border-color: transparent;\n",
              "      border-right-color: var(--fill-color);\n",
              "      border-bottom-color: var(--fill-color);\n",
              "    }\n",
              "    90% {\n",
              "      border-color: transparent;\n",
              "      border-bottom-color: var(--fill-color);\n",
              "    }\n",
              "  }\n",
              "</style>\n",
              "\n",
              "  <script>\n",
              "    async function quickchart(key) {\n",
              "      const quickchartButtonEl =\n",
              "        document.querySelector('#' + key + ' button');\n",
              "      quickchartButtonEl.disabled = true;  // To prevent multiple clicks.\n",
              "      quickchartButtonEl.classList.add('colab-df-spinner');\n",
              "      try {\n",
              "        const charts = await google.colab.kernel.invokeFunction(\n",
              "            'suggestCharts', [key], {});\n",
              "      } catch (error) {\n",
              "        console.error('Error during call to suggestCharts:', error);\n",
              "      }\n",
              "      quickchartButtonEl.classList.remove('colab-df-spinner');\n",
              "      quickchartButtonEl.classList.add('colab-df-quickchart-complete');\n",
              "    }\n",
              "    (() => {\n",
              "      let quickchartButtonEl =\n",
              "        document.querySelector('#df-df0ef0ee-0cb6-4875-845a-bd8cb2a19306 button');\n",
              "      quickchartButtonEl.style.display =\n",
              "        google.colab.kernel.accessAllowed ? 'block' : 'none';\n",
              "    })();\n",
              "  </script>\n",
              "</div>\n",
              "\n",
              "  <div id=\"id_6a597a0a-ef13-4d39-b146-c0373a1260ed\">\n",
              "    <style>\n",
              "      .colab-df-generate {\n",
              "        background-color: #E8F0FE;\n",
              "        border: none;\n",
              "        border-radius: 50%;\n",
              "        cursor: pointer;\n",
              "        display: none;\n",
              "        fill: #1967D2;\n",
              "        height: 32px;\n",
              "        padding: 0 0 0 0;\n",
              "        width: 32px;\n",
              "      }\n",
              "\n",
              "      .colab-df-generate:hover {\n",
              "        background-color: #E2EBFA;\n",
              "        box-shadow: 0px 1px 2px rgba(60, 64, 67, 0.3), 0px 1px 3px 1px rgba(60, 64, 67, 0.15);\n",
              "        fill: #174EA6;\n",
              "      }\n",
              "\n",
              "      [theme=dark] .colab-df-generate {\n",
              "        background-color: #3B4455;\n",
              "        fill: #D2E3FC;\n",
              "      }\n",
              "\n",
              "      [theme=dark] .colab-df-generate:hover {\n",
              "        background-color: #434B5C;\n",
              "        box-shadow: 0px 1px 3px 1px rgba(0, 0, 0, 0.15);\n",
              "        filter: drop-shadow(0px 1px 2px rgba(0, 0, 0, 0.3));\n",
              "        fill: #FFFFFF;\n",
              "      }\n",
              "    </style>\n",
              "    <button class=\"colab-df-generate\" onclick=\"generateWithVariable('batting')\"\n",
              "            title=\"Generate code using this dataframe.\"\n",
              "            style=\"display:none;\">\n",
              "\n",
              "  <svg xmlns=\"http://www.w3.org/2000/svg\" height=\"24px\"viewBox=\"0 0 24 24\"\n",
              "       width=\"24px\">\n",
              "    <path d=\"M7,19H8.4L18.45,9,17,7.55,7,17.6ZM5,21V16.75L18.45,3.32a2,2,0,0,1,2.83,0l1.4,1.43a1.91,1.91,0,0,1,.58,1.4,1.91,1.91,0,0,1-.58,1.4L9.25,21ZM18.45,9,17,7.55Zm-12,3A5.31,5.31,0,0,0,4.9,8.1,5.31,5.31,0,0,0,1,6.5,5.31,5.31,0,0,0,4.9,4.9,5.31,5.31,0,0,0,6.5,1,5.31,5.31,0,0,0,8.1,4.9,5.31,5.31,0,0,0,12,6.5,5.46,5.46,0,0,0,6.5,12Z\"/>\n",
              "  </svg>\n",
              "    </button>\n",
              "    <script>\n",
              "      (() => {\n",
              "      const buttonEl =\n",
              "        document.querySelector('#id_6a597a0a-ef13-4d39-b146-c0373a1260ed button.colab-df-generate');\n",
              "      buttonEl.style.display =\n",
              "        google.colab.kernel.accessAllowed ? 'block' : 'none';\n",
              "\n",
              "      buttonEl.onclick = () => {\n",
              "        google.colab.notebook.generateWithVariable('batting');\n",
              "      }\n",
              "      })();\n",
              "    </script>\n",
              "  </div>\n",
              "\n",
              "    </div>\n",
              "  </div>\n"
            ],
            "application/vnd.google.colaboratory.intrinsic+json": {
              "type": "dataframe",
              "variable_name": "batting"
            }
          },
          "metadata": {},
          "execution_count": 14
        }
      ]
    },
    {
      "cell_type": "code",
      "source": [
        "batting.dtypes"
      ],
      "metadata": {
        "id": "vONghyFUCSP3"
      },
      "execution_count": null,
      "outputs": []
    },
    {
      "cell_type": "code",
      "source": [
        "batting.dtypes[batting.dtypes == \"object\"] #ML only accept numbers not strings so these objects need to be converted like Names"
      ],
      "metadata": {
        "colab": {
          "base_uri": "https://localhost:8080/"
        },
        "id": "Zo5Nq_79E0u2",
        "outputId": "47775e91-f878-4627-a6ca-dbccff555b5a"
      },
      "execution_count": null,
      "outputs": [
        {
          "output_type": "execute_result",
          "data": {
            "text/plain": [
              "Name       object\n",
              "Team       object\n",
              "Dol        object\n",
              "Age Rng    object\n",
              "dtype: object"
            ]
          },
          "metadata": {},
          "execution_count": 16
        }
      ]
    },
    {
      "cell_type": "code",
      "source": [
        "batting[\"Dol\"] #Weird stat for assigning dollar to a player stat"
      ],
      "metadata": {
        "id": "FynMdwUvFAVW"
      },
      "execution_count": null,
      "outputs": []
    },
    {
      "cell_type": "code",
      "source": [
        "del batting[\"Dol\"]"
      ],
      "metadata": {
        "id": "CQn8n45wFP_h"
      },
      "execution_count": null,
      "outputs": []
    },
    {
      "cell_type": "code",
      "source": [
        "batting[\"Age Rng\"] #Age throughout the season"
      ],
      "metadata": {
        "id": "IBl195c3FV8n"
      },
      "execution_count": null,
      "outputs": []
    },
    {
      "cell_type": "code",
      "source": [
        "del batting[\"Age Rng\"]"
      ],
      "metadata": {
        "id": "gcuj5KkHFgJY"
      },
      "execution_count": null,
      "outputs": []
    },
    {
      "cell_type": "code",
      "source": [
        "batting[\"team_code\"] = batting[\"Team\"].astype(\"category\").cat.codes"
      ],
      "metadata": {
        "id": "UYpFQn0LFoev"
      },
      "execution_count": null,
      "outputs": []
    },
    {
      "cell_type": "code",
      "source": [
        "batting_full = batting.copy() # Makuing a copy because we going to drop any rows with Wars that are Nan and can use for forecast for 2003 or smthg like that\n",
        "batting = batting.dropna() # drop all Nan rows"
      ],
      "metadata": {
        "id": "LxYlFG3qHhlA"
      },
      "execution_count": null,
      "outputs": []
    },
    {
      "cell_type": "code",
      "source": [
        "from sklearn.linear_model import Ridge\n",
        "from sklearn.feature_selection import SequentialFeatureSelector\n",
        "from sklearn.model_selection import TimeSeriesSplit\n",
        "\n",
        "rr = Ridge(alpha = 1)\n",
        "split = TimeSeriesSplit(n_splits = 3)"
      ],
      "metadata": {
        "id": "6QeMpEYuHuqN"
      },
      "execution_count": null,
      "outputs": []
    }
  ]
}